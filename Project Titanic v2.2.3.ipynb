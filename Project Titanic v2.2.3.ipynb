{
 "cells": [
  {
   "cell_type": "markdown",
   "metadata": {},
   "source": [
    "# <center>PROJECT WORK</center>\n",
    "\n",
    "# Objective\n",
    "- Analysis on what sort of people likely survived. \n",
    "- Also, applying tools of machine learning to predict which passengers would survived Titanic sinking."
   ]
  },
  {
   "cell_type": "markdown",
   "metadata": {},
   "source": [
    "## _0. Fetching the data_\n",
    "Dataset is taken from [kaggle's](https://www.kaggle.com/c/titanic/data) prediction competitions, the Titanic challenge. And merged into a single file titanic.csv <br>\n",
    "The cell below is to load the packages required to run this notebook."
   ]
  },
  {
   "cell_type": "code",
   "execution_count": 1,
   "metadata": {},
   "outputs": [],
   "source": [
    "# modules to handle data\n",
    "import pandas as pd\n",
    "import numpy as np\n",
    "\n",
    "# ignore warnings\n",
    "import warnings\n",
    "warnings.filterwarnings('ignore')"
   ]
  },
  {
   "cell_type": "markdown",
   "metadata": {},
   "source": [
    "<br>\n",
    "\n",
    "## _I. Data Cleaning_\n",
    "\n",
    "The main aim of Data Cleaning is to identify and remove errors & duplicate data, in order to create a reliable dataset. This improves the quality of the training data for analytics and enables accurate decision-making.<br>\n",
    "Setting up a quality plan, filling missing values, removing rows, reducing data size are some of the best practices used for data cleaning in Machine Learning."
   ]
  },
  {
   "cell_type": "markdown",
   "metadata": {},
   "source": [
    "\n",
    "**Before doing anything else it is important to remove `NaN` values or fill `NaN` values with mean, median, etc.**\n",
    "\n",
    "### Data Dictionary\n",
    "- Survived: \t0 = No, 1 = Yes  \n",
    "- pclass: \tTicket class\t1 = 1st, 2 = 2nd, 3 = 3rd  \t\n",
    "- sibsp:\t# of siblings / spouses aboard the Titanic  \t\n",
    "- parch:\t# of parents / children aboard the Titanic  \t\n",
    "- ticket:\tTicket number\t\n",
    "- cabin:\tCabin number\t\n",
    "- embarked:\tPort of Embarkation\tC = Cherbourg, Q = Queenstown, S = Southampton  "
   ]
  },
  {
   "cell_type": "code",
   "execution_count": 2,
   "metadata": {},
   "outputs": [
    {
     "data": {
      "text/html": [
       "<div>\n",
       "<style scoped>\n",
       "    .dataframe tbody tr th:only-of-type {\n",
       "        vertical-align: middle;\n",
       "    }\n",
       "\n",
       "    .dataframe tbody tr th {\n",
       "        vertical-align: top;\n",
       "    }\n",
       "\n",
       "    .dataframe thead th {\n",
       "        text-align: right;\n",
       "    }\n",
       "</style>\n",
       "<table border=\"1\" class=\"dataframe\">\n",
       "  <thead>\n",
       "    <tr style=\"text-align: right;\">\n",
       "      <th></th>\n",
       "      <th>PassengerId</th>\n",
       "      <th>Survived</th>\n",
       "      <th>Pclass</th>\n",
       "      <th>Name</th>\n",
       "      <th>Sex</th>\n",
       "      <th>Age</th>\n",
       "      <th>SibSp</th>\n",
       "      <th>Parch</th>\n",
       "      <th>Ticket</th>\n",
       "      <th>Fare</th>\n",
       "      <th>Cabin</th>\n",
       "      <th>Embarked</th>\n",
       "    </tr>\n",
       "  </thead>\n",
       "  <tbody>\n",
       "    <tr>\n",
       "      <th>0</th>\n",
       "      <td>1</td>\n",
       "      <td>0</td>\n",
       "      <td>3</td>\n",
       "      <td>Braund, Mr. Owen Harris</td>\n",
       "      <td>male</td>\n",
       "      <td>22.0</td>\n",
       "      <td>1</td>\n",
       "      <td>0</td>\n",
       "      <td>A/5 21171</td>\n",
       "      <td>7.2500</td>\n",
       "      <td>NaN</td>\n",
       "      <td>S</td>\n",
       "    </tr>\n",
       "    <tr>\n",
       "      <th>1</th>\n",
       "      <td>2</td>\n",
       "      <td>1</td>\n",
       "      <td>1</td>\n",
       "      <td>Cumings, Mrs. John Bradley (Florence Briggs Th...</td>\n",
       "      <td>female</td>\n",
       "      <td>38.0</td>\n",
       "      <td>1</td>\n",
       "      <td>0</td>\n",
       "      <td>PC 17599</td>\n",
       "      <td>71.2833</td>\n",
       "      <td>C85</td>\n",
       "      <td>C</td>\n",
       "    </tr>\n",
       "    <tr>\n",
       "      <th>2</th>\n",
       "      <td>3</td>\n",
       "      <td>1</td>\n",
       "      <td>3</td>\n",
       "      <td>Heikkinen, Miss. Laina</td>\n",
       "      <td>female</td>\n",
       "      <td>26.0</td>\n",
       "      <td>0</td>\n",
       "      <td>0</td>\n",
       "      <td>STON/O2. 3101282</td>\n",
       "      <td>7.9250</td>\n",
       "      <td>NaN</td>\n",
       "      <td>S</td>\n",
       "    </tr>\n",
       "    <tr>\n",
       "      <th>3</th>\n",
       "      <td>4</td>\n",
       "      <td>1</td>\n",
       "      <td>1</td>\n",
       "      <td>Futrelle, Mrs. Jacques Heath (Lily May Peel)</td>\n",
       "      <td>female</td>\n",
       "      <td>35.0</td>\n",
       "      <td>1</td>\n",
       "      <td>0</td>\n",
       "      <td>113803</td>\n",
       "      <td>53.1000</td>\n",
       "      <td>C123</td>\n",
       "      <td>S</td>\n",
       "    </tr>\n",
       "    <tr>\n",
       "      <th>4</th>\n",
       "      <td>5</td>\n",
       "      <td>0</td>\n",
       "      <td>3</td>\n",
       "      <td>Allen, Mr. William Henry</td>\n",
       "      <td>male</td>\n",
       "      <td>35.0</td>\n",
       "      <td>0</td>\n",
       "      <td>0</td>\n",
       "      <td>373450</td>\n",
       "      <td>8.0500</td>\n",
       "      <td>NaN</td>\n",
       "      <td>S</td>\n",
       "    </tr>\n",
       "  </tbody>\n",
       "</table>\n",
       "</div>"
      ],
      "text/plain": [
       "   PassengerId  Survived  Pclass  \\\n",
       "0            1         0       3   \n",
       "1            2         1       1   \n",
       "2            3         1       3   \n",
       "3            4         1       1   \n",
       "4            5         0       3   \n",
       "\n",
       "                                                Name     Sex   Age  SibSp  \\\n",
       "0                            Braund, Mr. Owen Harris    male  22.0      1   \n",
       "1  Cumings, Mrs. John Bradley (Florence Briggs Th...  female  38.0      1   \n",
       "2                             Heikkinen, Miss. Laina  female  26.0      0   \n",
       "3       Futrelle, Mrs. Jacques Heath (Lily May Peel)  female  35.0      1   \n",
       "4                           Allen, Mr. William Henry    male  35.0      0   \n",
       "\n",
       "   Parch            Ticket     Fare Cabin Embarked  \n",
       "0      0         A/5 21171   7.2500   NaN        S  \n",
       "1      0          PC 17599  71.2833   C85        C  \n",
       "2      0  STON/O2. 3101282   7.9250   NaN        S  \n",
       "3      0            113803  53.1000  C123        S  \n",
       "4      0            373450   8.0500   NaN        S  "
      ]
     },
     "execution_count": 2,
     "metadata": {},
     "output_type": "execute_result"
    }
   ],
   "source": [
    "# loading data\n",
    "titanic = pd.read_csv('titanic.csv')\n",
    "\n",
    "# Viewing first 5 rows\n",
    "titanic.head(5)"
   ]
  },
  {
   "cell_type": "code",
   "execution_count": 3,
   "metadata": {},
   "outputs": [
    {
     "name": "stdout",
     "output_type": "stream",
     "text": [
      "<class 'pandas.core.frame.DataFrame'>\n",
      "RangeIndex: 1309 entries, 0 to 1308\n",
      "Data columns (total 12 columns):\n",
      "PassengerId    1309 non-null int64\n",
      "Survived       1309 non-null int64\n",
      "Pclass         1309 non-null int64\n",
      "Name           1309 non-null object\n",
      "Sex            1309 non-null object\n",
      "Age            1046 non-null float64\n",
      "SibSp          1309 non-null int64\n",
      "Parch          1309 non-null int64\n",
      "Ticket         1309 non-null object\n",
      "Fare           1308 non-null float64\n",
      "Cabin          295 non-null object\n",
      "Embarked       1307 non-null object\n",
      "dtypes: float64(2), int64(5), object(5)\n",
      "memory usage: 122.8+ KB\n"
     ]
    }
   ],
   "source": [
    "# getting info on dataset\n",
    "titanic.info()"
   ]
  },
  {
   "cell_type": "markdown",
   "metadata": {},
   "source": [
    "The `info()` function reveals that the `Age`, `Fare`, `Cabin` and `Embarked` all have some entries missing.\n",
    "- Age: 263 out of 1309 values missing ( 20% values missing)\n",
    "- Fare: 1 out of 1309 values missing ( 0.07% values missing)\n",
    "- Cabin: 1014 out of 1309 values missing ( 77.46% values missing)\n",
    "- Embarked: 2 out of 1309 values missing ( 0.15% values missing)\n",
    "\n",
    "There are a few missing entries in variable `Fare` and `Embarked` which can be inferred by other values. There are more than 77% of missing entries in `Cabin`, which is not very helpful. So, let's drop it. Also, 20% passenger ages were not recorded. But it shouldn't be dropped as `Age` is likely to be one of the key variable because \"Women and children first\" was code of conduct back then.\n",
    "\n",
    "Additionally, `PassengerId` can be dropped as it is simply a row identifier. And `Ticket` variable is also dropped although it could be possible that it is holding useful information, but extensive work would be required. So, we dropped it for simplicity. "
   ]
  },
  {
   "cell_type": "code",
   "execution_count": 4,
   "metadata": {},
   "outputs": [],
   "source": [
    "# PassengerId, Ticket and Cabin are dropped\n",
    "titanic.drop(['PassengerId', 'Ticket', 'Cabin'], axis=1, inplace=True)"
   ]
  },
  {
   "cell_type": "markdown",
   "metadata": {},
   "source": [
    "Now we will fill missing values for `Embarked`, by simply filling `NaN` values with most common port of embarkation."
   ]
  },
  {
   "cell_type": "code",
   "execution_count": 5,
   "metadata": {},
   "outputs": [
    {
     "name": "stdout",
     "output_type": "stream",
     "text": [
      "Most embarked port is S\n"
     ]
    }
   ],
   "source": [
    "# finding most frequent Embarked port\n",
    "most_embarked = titanic.Embarked.value_counts().index[0]\n",
    "print('Most embarked port is', most_embarked)\n",
    "\n",
    "# filling NaN with most_embarked value\n",
    "titanic.Embarked = titanic.Embarked.fillna(most_embarked)"
   ]
  },
  {
   "cell_type": "markdown",
   "metadata": {},
   "source": [
    "Here 'S' stands for Southampton <br>\n",
    "Next, we have just one missing value for `Fare`. We'll just fill it with `median` value."
   ]
  },
  {
   "cell_type": "code",
   "execution_count": 6,
   "metadata": {},
   "outputs": [],
   "source": [
    "# filling NaN with median fare\n",
    "titanic.Fare = titanic.Fare.fillna(titanic.Fare.median())"
   ]
  },
  {
   "cell_type": "markdown",
   "metadata": {},
   "source": [
    "From the `Name` column we could extract title of the person. This will allow us to estimate feature `Age` more accurately."
   ]
  },
  {
   "cell_type": "code",
   "execution_count": 7,
   "metadata": {},
   "outputs": [
    {
     "data": {
      "text/html": [
       "<div>\n",
       "<style scoped>\n",
       "    .dataframe tbody tr th:only-of-type {\n",
       "        vertical-align: middle;\n",
       "    }\n",
       "\n",
       "    .dataframe tbody tr th {\n",
       "        vertical-align: top;\n",
       "    }\n",
       "\n",
       "    .dataframe thead th {\n",
       "        text-align: right;\n",
       "    }\n",
       "</style>\n",
       "<table border=\"1\" class=\"dataframe\">\n",
       "  <thead>\n",
       "    <tr style=\"text-align: right;\">\n",
       "      <th></th>\n",
       "      <th>Survived</th>\n",
       "      <th>Pclass</th>\n",
       "      <th>Name</th>\n",
       "      <th>Sex</th>\n",
       "      <th>Age</th>\n",
       "      <th>SibSp</th>\n",
       "      <th>Parch</th>\n",
       "      <th>Fare</th>\n",
       "      <th>Embarked</th>\n",
       "      <th>Title</th>\n",
       "    </tr>\n",
       "  </thead>\n",
       "  <tbody>\n",
       "    <tr>\n",
       "      <th>0</th>\n",
       "      <td>0</td>\n",
       "      <td>3</td>\n",
       "      <td>Braund, Mr. Owen Harris</td>\n",
       "      <td>male</td>\n",
       "      <td>22.0</td>\n",
       "      <td>1</td>\n",
       "      <td>0</td>\n",
       "      <td>7.2500</td>\n",
       "      <td>S</td>\n",
       "      <td>Mr</td>\n",
       "    </tr>\n",
       "    <tr>\n",
       "      <th>1</th>\n",
       "      <td>1</td>\n",
       "      <td>1</td>\n",
       "      <td>Cumings, Mrs. John Bradley (Florence Briggs Th...</td>\n",
       "      <td>female</td>\n",
       "      <td>38.0</td>\n",
       "      <td>1</td>\n",
       "      <td>0</td>\n",
       "      <td>71.2833</td>\n",
       "      <td>C</td>\n",
       "      <td>Mrs</td>\n",
       "    </tr>\n",
       "    <tr>\n",
       "      <th>2</th>\n",
       "      <td>1</td>\n",
       "      <td>3</td>\n",
       "      <td>Heikkinen, Miss. Laina</td>\n",
       "      <td>female</td>\n",
       "      <td>26.0</td>\n",
       "      <td>0</td>\n",
       "      <td>0</td>\n",
       "      <td>7.9250</td>\n",
       "      <td>S</td>\n",
       "      <td>Miss</td>\n",
       "    </tr>\n",
       "    <tr>\n",
       "      <th>3</th>\n",
       "      <td>1</td>\n",
       "      <td>1</td>\n",
       "      <td>Futrelle, Mrs. Jacques Heath (Lily May Peel)</td>\n",
       "      <td>female</td>\n",
       "      <td>35.0</td>\n",
       "      <td>1</td>\n",
       "      <td>0</td>\n",
       "      <td>53.1000</td>\n",
       "      <td>S</td>\n",
       "      <td>Mrs</td>\n",
       "    </tr>\n",
       "    <tr>\n",
       "      <th>4</th>\n",
       "      <td>0</td>\n",
       "      <td>3</td>\n",
       "      <td>Allen, Mr. William Henry</td>\n",
       "      <td>male</td>\n",
       "      <td>35.0</td>\n",
       "      <td>0</td>\n",
       "      <td>0</td>\n",
       "      <td>8.0500</td>\n",
       "      <td>S</td>\n",
       "      <td>Mr</td>\n",
       "    </tr>\n",
       "  </tbody>\n",
       "</table>\n",
       "</div>"
      ],
      "text/plain": [
       "   Survived  Pclass                                               Name  \\\n",
       "0         0       3                            Braund, Mr. Owen Harris   \n",
       "1         1       1  Cumings, Mrs. John Bradley (Florence Briggs Th...   \n",
       "2         1       3                             Heikkinen, Miss. Laina   \n",
       "3         1       1       Futrelle, Mrs. Jacques Heath (Lily May Peel)   \n",
       "4         0       3                           Allen, Mr. William Henry   \n",
       "\n",
       "      Sex   Age  SibSp  Parch     Fare Embarked Title  \n",
       "0    male  22.0      1      0   7.2500        S    Mr  \n",
       "1  female  38.0      1      0  71.2833        C   Mrs  \n",
       "2  female  26.0      0      0   7.9250        S  Miss  \n",
       "3  female  35.0      1      0  53.1000        S   Mrs  \n",
       "4    male  35.0      0      0   8.0500        S    Mr  "
      ]
     },
     "execution_count": 7,
     "metadata": {},
     "output_type": "execute_result"
    }
   ],
   "source": [
    "# Creating a new feature Title from the Name column\n",
    "titanic['Title'] = titanic.Name.apply(lambda name: name.split(',')[1].split('.')[0].strip())\n",
    "\n",
    "# Viewing the newly created feature\n",
    "titanic.head()"
   ]
  },
  {
   "cell_type": "code",
   "execution_count": 8,
   "metadata": {},
   "outputs": [
    {
     "name": "stdout",
     "output_type": "stream",
     "text": [
      "There are  18 unique titles.\n",
      "\n",
      " ['Mr' 'Mrs' 'Miss' 'Master' 'Don' 'Rev' 'Dr' 'Mme' 'Ms' 'Major' 'Lady'\n",
      " 'Sir' 'Mlle' 'Col' 'Capt' 'the Countess' 'Jonkheer' 'Dona']\n",
      "Mr              757\n",
      "Miss            260\n",
      "Mrs             197\n",
      "Master           61\n",
      "Dr                8\n",
      "Rev               8\n",
      "Col               4\n",
      "Major             2\n",
      "Ms                2\n",
      "Mlle              2\n",
      "Jonkheer          1\n",
      "the Countess      1\n",
      "Lady              1\n",
      "Don               1\n",
      "Dona              1\n",
      "Mme               1\n",
      "Capt              1\n",
      "Sir               1\n",
      "Name: Title, dtype: int64\n"
     ]
    }
   ],
   "source": [
    "# show count of titles\n",
    "print(\"There are \", len(titanic.Title.unique()), \"unique titles.\")\n",
    "\n",
    "# show unique titles\n",
    "print(\"\\n\", titanic.Title.unique())\n",
    "\n",
    "print(titanic.Title.value_counts())"
   ]
  },
  {
   "cell_type": "markdown",
   "metadata": {},
   "source": [
    "There are various titles but we can bin them in 5 different categories.\n",
    "- Mr\n",
    "- Master \n",
    "- Mrs\n",
    "- Miss\n",
    "- Rare \n",
    "\n",
    "Note: Master is a title given to an underage male. Mlle and Mme is French version of \"Miss\" and \"Mrs\" respectively."
   ]
  },
  {
   "cell_type": "code",
   "execution_count": 9,
   "metadata": {},
   "outputs": [
    {
     "name": "stdout",
     "output_type": "stream",
     "text": [
      "Mr        757\n",
      "Miss      262\n",
      "Mrs       200\n",
      "Master     61\n",
      "Rare       29\n",
      "Name: Title, dtype: int64\n"
     ]
    }
   ],
   "source": [
    "# Binning\n",
    "titles_dict = {\n",
    "    \"Capt\":       \"Rare\",\n",
    "    \"Col\":        \"Rare\",\n",
    "    \"Major\":      \"Rare\",\n",
    "    \"Jonkheer\":   \"Rare\",\n",
    "    \"Don\":        \"Rare\",\n",
    "    \"Sir\" :       \"Rare\",\n",
    "    \"Dr\":         \"Rare\",\n",
    "    \"Rev\":        \"Rare\",\n",
    "    \"the Countess\":\"Rare\",\n",
    "    \"Dona\":       \"Rare\",\n",
    "    \"Mme\":        \"Mrs\",\n",
    "    \"Mlle\":       \"Miss\",\n",
    "    \"Ms\":         \"Mrs\",\n",
    "    \"Mr\" :        \"Mr\",\n",
    "    \"Mrs\" :       \"Mrs\",\n",
    "    \"Miss\" :      \"Miss\",\n",
    "    \"Master\" :    \"Master\",\n",
    "    \"Lady\" :      \"Rare\"\n",
    "}\n",
    "\n",
    "# mapping the binned titles to the current titles\n",
    "titanic.Title = titanic.Title.map(titles_dict)\n",
    "\n",
    "# view value counts for the normalized titles\n",
    "print(titanic.Title.value_counts())"
   ]
  },
  {
   "cell_type": "markdown",
   "metadata": {},
   "source": [
    "Now we are going to assume that their is a relation between a person's age and title since younger person is more likely to have a title of \"Miss\" or \"Master\" rather than \"Mrs\" or \"Mr\"\n",
    "\n",
    "We will now group data by `Sex` and `Title` then view median age for the group."
   ]
  },
  {
   "cell_type": "code",
   "execution_count": 10,
   "metadata": {},
   "outputs": [
    {
     "data": {
      "text/plain": [
       "Sex     Title \n",
       "female  Miss      22.0\n",
       "        Mrs       35.0\n",
       "        Rare      43.5\n",
       "male    Master     4.0\n",
       "        Mr        29.0\n",
       "        Rare      48.0\n",
       "Name: Age, dtype: float64"
      ]
     },
     "execution_count": 10,
     "metadata": {},
     "output_type": "execute_result"
    }
   ],
   "source": [
    "# Group by Sex and Title\n",
    "grouped = titanic.groupby(['Sex', 'Title'])\n",
    "\n",
    "# Viewing median age by the grouped features\n",
    "grouped.Age.median()"
   ]
  },
  {
   "cell_type": "markdown",
   "metadata": {},
   "source": [
    "Clearly, passengers with title \"Miss\" and \"Master\" are younger than \"Mrs\" and \"Mr\" respectively. So this should help us to estimate missing ages more accurately. "
   ]
  },
  {
   "cell_type": "code",
   "execution_count": 11,
   "metadata": {},
   "outputs": [
    {
     "name": "stdout",
     "output_type": "stream",
     "text": [
      "<class 'pandas.core.frame.DataFrame'>\n",
      "RangeIndex: 1309 entries, 0 to 1308\n",
      "Data columns (total 10 columns):\n",
      "Survived    1309 non-null int64\n",
      "Pclass      1309 non-null int64\n",
      "Name        1309 non-null object\n",
      "Sex         1309 non-null object\n",
      "Age         1309 non-null float64\n",
      "SibSp       1309 non-null int64\n",
      "Parch       1309 non-null int64\n",
      "Fare        1309 non-null float64\n",
      "Embarked    1309 non-null object\n",
      "Title       1309 non-null object\n",
      "dtypes: float64(2), int64(4), object(4)\n",
      "memory usage: 102.3+ KB\n"
     ]
    }
   ],
   "source": [
    "# applying the grouped median value on missing Age values \n",
    "titanic.Age = grouped.Age.apply(lambda x: x.fillna(x.median()))\n",
    "\n",
    "# viewing changes\n",
    "titanic.info()"
   ]
  },
  {
   "cell_type": "markdown",
   "metadata": {},
   "source": [
    "**Yay!** We have finally cleaned the dataset. And there is **no missing values** as we see from `titanic.info()`"
   ]
  },
  {
   "cell_type": "markdown",
   "metadata": {},
   "source": [
    "<br>\n",
    "\n",
    "## _II. Descriptive Data Analysis_\n",
    "Descriptive statistics is the term given to the analysis of data that helps describe, show or summarize data in a meaningful way such that, for example, patterns might emerge from the data. Descriptive statistics do not, however, allow us to make conclusions beyond the data we have analysed or reach conclusions regarding any hypotheses we might have made. They are simply a way to describe our data.\n",
    "\n",
    "Descriptive statistics are very important because if we simply presented our raw data it would be hard to visulize what the data was showing, especially if there was a lot of it. Descriptive statistics therefore enables us to present the data in a more meaningful way, which allows simpler interpretation of the data.\n"
   ]
  },
  {
   "cell_type": "markdown",
   "metadata": {},
   "source": [
    "**Now we have a fully clean dataset. Time to apply some descriptive analysis on the given dataset.<br>\n",
    "Importing python library for visualization**"
   ]
  },
  {
   "cell_type": "code",
   "execution_count": 12,
   "metadata": {},
   "outputs": [],
   "source": [
    "# visualization tools\n",
    "import matplotlib.pyplot as plt\n",
    "import seaborn as sns\n",
    "\n",
    "# environment setup\n",
    "sns.set() # setting seaborn default for plots\n",
    "#plt.style.use('ggplot')\n",
    "%matplotlib inline"
   ]
  },
  {
   "cell_type": "code",
   "execution_count": 13,
   "metadata": {},
   "outputs": [],
   "source": [
    "def bar_chart(feature, color):\n",
    "    survived = titanic[titanic['Survived']==1][feature].value_counts()\n",
    "    dead = titanic[titanic['Survived']==0][feature].value_counts()\n",
    "    df = pd.DataFrame([survived,dead])\n",
    "    df.index = ['Survived','Dead']\n",
    "    df.plot(kind='bar', figsize=(10,5), color=color)"
   ]
  },
  {
   "cell_type": "code",
   "execution_count": 14,
   "metadata": {},
   "outputs": [
    {
     "data": {
      "text/plain": [
       "Sex     Survived\n",
       "female  1           339\n",
       "        0           127\n",
       "male    0           682\n",
       "        1           161\n",
       "Name: Survived, dtype: int64"
      ]
     },
     "execution_count": 14,
     "metadata": {},
     "output_type": "execute_result"
    },
    {
     "data": {
      "image/png": "[encoded data removed]",
      "text/plain": [
       "<Figure size 720x360 with 1 Axes>"
      ]
     },
     "metadata": {
      "needs_background": "light"
     },
     "output_type": "display_data"
    }
   ],
   "source": [
    "bar_chart('Sex', ['#cc3daa', '#348ABD'])\n",
    "\n",
    "titanic.groupby('Sex').Survived.value_counts()"
   ]
  },
  {
   "cell_type": "markdown",
   "metadata": {},
   "source": [
    "Out of 466 females 339 survived (**72%**). Whereas, out of 843 males 161 survived (**19%**). <br>\n",
    "This shows **Women** more likely survived than **Men** "
   ]
  },
  {
   "cell_type": "code",
   "execution_count": 15,
   "metadata": {},
   "outputs": [
    {
     "data": {
      "text/plain": [
       "Pclass  Survived\n",
       "1       1           200\n",
       "        0           123\n",
       "2       0           158\n",
       "        1           119\n",
       "3       0           528\n",
       "        1           181\n",
       "Name: Survived, dtype: int64"
      ]
     },
     "execution_count": 15,
     "metadata": {},
     "output_type": "execute_result"
    },
    {
     "data": {
      "image/png": "[encoded data removed]",
      "text/plain": [
       "<Figure size 720x360 with 1 Axes>"
      ]
     },
     "metadata": {
      "needs_background": "light"
     },
     "output_type": "display_data"
    }
   ],
   "source": [
    "bar_chart('Pclass',['gray','yellow','magenta'])\n",
    "\n",
    "titanic.groupby('Pclass').Survived.value_counts()"
   ]
  },
  {
   "cell_type": "markdown",
   "metadata": {},
   "source": [
    "This shows **1st class** more likely survived than **other classes**  \n",
    "Also, **3rd class** more likely dead than **other classes**"
   ]
  },
  {
   "cell_type": "code",
   "execution_count": 16,
   "metadata": {},
   "outputs": [
    {
     "data": {
      "text/plain": [
       "Embarked  Survived\n",
       "C         1           150\n",
       "          0           120\n",
       "Q         0            79\n",
       "          1            44\n",
       "S         0           610\n",
       "          1           306\n",
       "Name: Survived, dtype: int64"
      ]
     },
     "execution_count": 16,
     "metadata": {},
     "output_type": "execute_result"
    },
    {
     "data": {
      "image/png": "[encoded data removed]",
      "text/plain": [
       "<Figure size 720x360 with 1 Axes>"
      ]
     },
     "metadata": {
      "needs_background": "light"
     },
     "output_type": "display_data"
    }
   ],
   "source": [
    "bar_chart('Embarked',['blue','red','green'])\n",
    "\n",
    "titanic.groupby('Embarked').Survived.value_counts()"
   ]
  },
  {
   "cell_type": "markdown",
   "metadata": {},
   "source": [
    "### S = **Southampton**, C = **Cherbourg**, Q = **Queenstown** <br>\n",
    "Looking at absolute counts it seems that most people from Southampton survived but number of people embarked from Southampton is also high.\n",
    "\n",
    "Let's look at the ratio of population survived by `Embarked`\n",
    "- Out of 916 people boarded from Southampton 306 survived (**33.4%**)\n",
    "- Out of 270 people boarded from Cherbourg 150 survived (**55.55%**)\n",
    "- Out of 123 people boarded from Queenstown 44 survived (**35.77%**)\n",
    "\n",
    "Thus, a person boarded from Cherbourg is slightly more likely to survive."
   ]
  },
  {
   "cell_type": "code",
   "execution_count": 17,
   "metadata": {},
   "outputs": [
    {
     "data": {
      "image/png": "[encoded data removed]",
      "text/plain": [
       "<Figure size 1152x576 with 1 Axes>"
      ]
     },
     "metadata": {
      "needs_background": "light"
     },
     "output_type": "display_data"
    }
   ],
   "source": [
    "fig = plt.figure(figsize=(16,8))\n",
    "\n",
    "ax = sns.kdeplot(titanic[titanic['Survived'] == 0]['Fare'] , \n",
    "                 color = 'gray',\n",
    "                 shade = True,\n",
    "                 label='Not Survived')\n",
    "\n",
    "ax = sns.kdeplot(titanic[titanic['Survived'] == 1]['Fare'] , \n",
    "                 color = 'green',\n",
    "                 shade = True,\n",
    "                 label='Survived')\n",
    "\n",
    "ax.set_title('Fare Distribution - Survived or not', fontsize=15)\n",
    "ax.set_xlabel('Fare', fontsize = 15)\n",
    "ax.set_ylabel('Frequency of Passenger Survived', fontsize =15)\n",
    "plt.show()"
   ]
  },
  {
   "cell_type": "markdown",
   "metadata": {},
   "source": [
    "Passengers with cheaper ticket fares are more likely to die. Or in other words people with expensive tickets may have more important social status, seem to be rescued first. "
   ]
  },
  {
   "cell_type": "code",
   "execution_count": 18,
   "metadata": {},
   "outputs": [
    {
     "data": {
      "image/png": "[encoded data removed]",
      "text/plain": [
       "<Figure size 1152x576 with 1 Axes>"
      ]
     },
     "metadata": {
      "needs_background": "light"
     },
     "output_type": "display_data"
    }
   ],
   "source": [
    "fig = plt.figure(figsize=(16,8))\n",
    "\n",
    "ax = sns.kdeplot(titanic[titanic['Survived'] == 0]['Age'] , \n",
    "                 color = 'gray',\n",
    "                 shade = True,\n",
    "                 label='Not Survived')\n",
    "\n",
    "ax = sns.kdeplot(titanic[titanic['Survived'] == 1]['Age'] , \n",
    "                 color = 'green',\n",
    "                 shade = True,\n",
    "                 label='Survived')\n",
    "\n",
    "ax.set_title('Age Distribution - Survived or not', fontsize=15)\n",
    "ax.set_xlabel('Age', fontsize = 15)\n",
    "ax.set_ylabel('Frequency of Passenger Survived', fontsize =15)\n",
    "plt.show()"
   ]
  },
  {
   "cell_type": "markdown",
   "metadata": {},
   "source": [
    "Younger people had a higher chance of survival."
   ]
  },
  {
   "cell_type": "code",
   "execution_count": 19,
   "metadata": {},
   "outputs": [
    {
     "data": {
      "image/png": "[encoded data removed]",
      "text/plain": [
       "<Figure size 1080x504 with 1 Axes>"
      ]
     },
     "metadata": {
      "needs_background": "light"
     },
     "output_type": "display_data"
    }
   ],
   "source": [
    "fig = plt.figure(figsize=(15, 7))\n",
    "sns.violinplot(x='Sex', y='Age', \n",
    "               hue='Survived', data=titanic, \n",
    "               split=True,\n",
    "               palette={0: \"#e80000\", 1: \"#107010\"}\n",
    "              );"
   ]
  },
  {
   "cell_type": "markdown",
   "metadata": {},
   "source": [
    "We can infer few things from the above violin plot\n",
    "- More women survived than men, as depicted by larger green female histogram\n",
    "- Younger male tends to survive\n",
    "- A large population between age 20-40 died.\n",
    "\n",
    "This violin plot confirms old code of conduct Captains and Sailors used to follow in life threatening situations: **Women and Children are First!**"
   ]
  },
  {
   "cell_type": "markdown",
   "metadata": {},
   "source": [
    "<br>\n",
    "\n",
    "## _III. Modeling_\n",
    "One last step before modeling, we need to convert all categorical features to numbers, as our algorithms can only take an array of numbers, no letters or names. We can use `pd.get_dummies()` function from `Pandas` to convert categorical features into dummy variables. "
   ]
  },
  {
   "cell_type": "code",
   "execution_count": 20,
   "metadata": {},
   "outputs": [],
   "source": [
    "# Converting the male and female groups to integer form\n",
    "titanic.Sex = titanic.Sex.map({\"female\": 0, \"male\":1})\n",
    "\n",
    "# create dummy variables for categorical features\n",
    "pclass_dummies = pd.get_dummies(titanic.Pclass, prefix=\"Pclass\")\n",
    "title_dummies = pd.get_dummies(titanic.Title, prefix=\"Title\")\n",
    "embarked_dummies = pd.get_dummies(titanic.Embarked, prefix=\"Embarked\")"
   ]
  },
  {
   "cell_type": "markdown",
   "metadata": {},
   "source": [
    "In next step, we concatenate all the dummy variable columns together and drop all the remaining categorical columns and other columns we don't need."
   ]
  },
  {
   "cell_type": "code",
   "execution_count": 21,
   "metadata": {},
   "outputs": [
    {
     "data": {
      "text/html": [
       "<div>\n",
       "<style scoped>\n",
       "    .dataframe tbody tr th:only-of-type {\n",
       "        vertical-align: middle;\n",
       "    }\n",
       "\n",
       "    .dataframe tbody tr th {\n",
       "        vertical-align: top;\n",
       "    }\n",
       "\n",
       "    .dataframe thead th {\n",
       "        text-align: right;\n",
       "    }\n",
       "</style>\n",
       "<table border=\"1\" class=\"dataframe\">\n",
       "  <thead>\n",
       "    <tr style=\"text-align: right;\">\n",
       "      <th></th>\n",
       "      <th>Survived</th>\n",
       "      <th>Sex</th>\n",
       "      <th>Age</th>\n",
       "      <th>Fare</th>\n",
       "      <th>Pclass_1</th>\n",
       "      <th>Pclass_2</th>\n",
       "      <th>Pclass_3</th>\n",
       "      <th>Title_Master</th>\n",
       "      <th>Title_Miss</th>\n",
       "      <th>Title_Mr</th>\n",
       "      <th>Title_Mrs</th>\n",
       "      <th>Title_Rare</th>\n",
       "      <th>Embarked_C</th>\n",
       "      <th>Embarked_Q</th>\n",
       "      <th>Embarked_S</th>\n",
       "    </tr>\n",
       "  </thead>\n",
       "  <tbody>\n",
       "    <tr>\n",
       "      <th>0</th>\n",
       "      <td>0</td>\n",
       "      <td>1</td>\n",
       "      <td>22.0</td>\n",
       "      <td>7.2500</td>\n",
       "      <td>0</td>\n",
       "      <td>0</td>\n",
       "      <td>1</td>\n",
       "      <td>0</td>\n",
       "      <td>0</td>\n",
       "      <td>1</td>\n",
       "      <td>0</td>\n",
       "      <td>0</td>\n",
       "      <td>0</td>\n",
       "      <td>0</td>\n",
       "      <td>1</td>\n",
       "    </tr>\n",
       "    <tr>\n",
       "      <th>1</th>\n",
       "      <td>1</td>\n",
       "      <td>0</td>\n",
       "      <td>38.0</td>\n",
       "      <td>71.2833</td>\n",
       "      <td>1</td>\n",
       "      <td>0</td>\n",
       "      <td>0</td>\n",
       "      <td>0</td>\n",
       "      <td>0</td>\n",
       "      <td>0</td>\n",
       "      <td>1</td>\n",
       "      <td>0</td>\n",
       "      <td>1</td>\n",
       "      <td>0</td>\n",
       "      <td>0</td>\n",
       "    </tr>\n",
       "    <tr>\n",
       "      <th>2</th>\n",
       "      <td>1</td>\n",
       "      <td>0</td>\n",
       "      <td>26.0</td>\n",
       "      <td>7.9250</td>\n",
       "      <td>0</td>\n",
       "      <td>0</td>\n",
       "      <td>1</td>\n",
       "      <td>0</td>\n",
       "      <td>1</td>\n",
       "      <td>0</td>\n",
       "      <td>0</td>\n",
       "      <td>0</td>\n",
       "      <td>0</td>\n",
       "      <td>0</td>\n",
       "      <td>1</td>\n",
       "    </tr>\n",
       "    <tr>\n",
       "      <th>3</th>\n",
       "      <td>1</td>\n",
       "      <td>0</td>\n",
       "      <td>35.0</td>\n",
       "      <td>53.1000</td>\n",
       "      <td>1</td>\n",
       "      <td>0</td>\n",
       "      <td>0</td>\n",
       "      <td>0</td>\n",
       "      <td>0</td>\n",
       "      <td>0</td>\n",
       "      <td>1</td>\n",
       "      <td>0</td>\n",
       "      <td>0</td>\n",
       "      <td>0</td>\n",
       "      <td>1</td>\n",
       "    </tr>\n",
       "    <tr>\n",
       "      <th>4</th>\n",
       "      <td>0</td>\n",
       "      <td>1</td>\n",
       "      <td>35.0</td>\n",
       "      <td>8.0500</td>\n",
       "      <td>0</td>\n",
       "      <td>0</td>\n",
       "      <td>1</td>\n",
       "      <td>0</td>\n",
       "      <td>0</td>\n",
       "      <td>1</td>\n",
       "      <td>0</td>\n",
       "      <td>0</td>\n",
       "      <td>0</td>\n",
       "      <td>0</td>\n",
       "      <td>1</td>\n",
       "    </tr>\n",
       "  </tbody>\n",
       "</table>\n",
       "</div>"
      ],
      "text/plain": [
       "   Survived  Sex   Age     Fare  Pclass_1  Pclass_2  Pclass_3  Title_Master  \\\n",
       "0         0    1  22.0   7.2500         0         0         1             0   \n",
       "1         1    0  38.0  71.2833         1         0         0             0   \n",
       "2         1    0  26.0   7.9250         0         0         1             0   \n",
       "3         1    0  35.0  53.1000         1         0         0             0   \n",
       "4         0    1  35.0   8.0500         0         0         1             0   \n",
       "\n",
       "   Title_Miss  Title_Mr  Title_Mrs  Title_Rare  Embarked_C  Embarked_Q  \\\n",
       "0           0         1          0           0           0           0   \n",
       "1           0         0          1           0           1           0   \n",
       "2           1         0          0           0           0           0   \n",
       "3           0         0          1           0           0           0   \n",
       "4           0         1          0           0           0           0   \n",
       "\n",
       "   Embarked_S  \n",
       "0           1  \n",
       "1           0  \n",
       "2           1  \n",
       "3           1  \n",
       "4           1  "
      ]
     },
     "execution_count": 21,
     "metadata": {},
     "output_type": "execute_result"
    }
   ],
   "source": [
    "# concatenating dummy columns with main dataset\n",
    "titanic_dummies = pd.concat([titanic, pclass_dummies, title_dummies, embarked_dummies], axis=1)\n",
    "\n",
    "# dropping useless fields\n",
    "titanic_dummies.drop(['Pclass', 'Title', 'Embarked', 'Name', 'SibSp', 'Parch'], axis=1, inplace=True)\n",
    "\n",
    "titanic_dummies.head()"
   ]
  },
  {
   "cell_type": "markdown",
   "metadata": {},
   "source": [
    "Finally, we will separate the combined dataset into `train` and `test` dataset (Split ratio `80:20`)."
   ]
  },
  {
   "cell_type": "code",
   "execution_count": 22,
   "metadata": {},
   "outputs": [
    {
     "data": {
      "text/plain": [
       "(1309, 15)"
      ]
     },
     "execution_count": 22,
     "metadata": {},
     "output_type": "execute_result"
    }
   ],
   "source": [
    "titanic_dummies.shape"
   ]
  },
  {
   "cell_type": "code",
   "execution_count": 23,
   "metadata": {},
   "outputs": [],
   "source": [
    "train = titanic_dummies[:1047]\n",
    "test = titanic_dummies[1047:]"
   ]
  },
  {
   "cell_type": "code",
   "execution_count": 24,
   "metadata": {},
   "outputs": [],
   "source": [
    "# creating x and y for independent and dependent variables respectively\n",
    "x_train = train.drop('Survived', axis=1).values\n",
    "y_train = train.Survived.values\n",
    "\n",
    "x_test = test.drop('Survived', axis=1).values\n",
    "y_test = test.Survived.values"
   ]
  },
  {
   "cell_type": "markdown",
   "metadata": {},
   "source": [
    " <br>\n",
    "\n",
    "### Decision Tree Model\n",
    "\n",
    "In Decision Trees the data is continuously split according to a certain parameter covering both classification and regression. The tree can be explained by two entities, namely decision nodes and leaves. The leaves are the decisions or the final outcomes. And the decision nodes are where the data is split."
   ]
  },
  {
   "cell_type": "code",
   "execution_count": 25,
   "metadata": {},
   "outputs": [
    {
     "name": "stdout",
     "output_type": "stream",
     "text": [
      "Decision Tree: Accuracy= 77.10000000000001 %\n"
     ]
    }
   ],
   "source": [
    "from sklearn.tree import DecisionTreeClassifier\n",
    "dtc = DecisionTreeClassifier()\n",
    "\n",
    "# training\n",
    "dtc.fit(x_train, y_train)\n",
    "\n",
    "# accuracy\n",
    "print('Decision Tree: Accuracy=',round(dtc.score(x_test, y_test),4)*100, '%')"
   ]
  },
  {
   "cell_type": "markdown",
   "metadata": {},
   "source": [
    "### Naive Bayes Model\n",
    "\n",
    "In machine learning we are often interested in selecting the best hypothesis (h) given data (d).\n",
    "\n",
    "One of the easiest ways of selecting the most probable hypothesis given the data that we have that we can use as our prior knowledge about the problem. Bayes’ Theorem provides a way that we can calculate the probability of a hypothesis given our prior knowledge.\n",
    "\n",
    "Bayes’ Theorem is stated as:\n",
    "\n",
    "P(h|d) = (P(d|h) * P(h)) / P(d)\n",
    "\n",
    "Where\n",
    "\n",
    "P(h|d) is the probability of hypothesis h given the data d. This is called the posterior probability.<br>\n",
    "P(d|h) is the probability of data d given that the hypothesis h was true.<br>\n",
    "P(h) is the probability of hypothesis h being true (regardless of the data). This is called the prior probability of h.<br>\n",
    "P(d) is the probability of the data (regardless of the hypothesis)."
   ]
  },
  {
   "cell_type": "code",
   "execution_count": 26,
   "metadata": {},
   "outputs": [
    {
     "name": "stdout",
     "output_type": "stream",
     "text": [
      "Naive Bayes: Accuracy= 78.24 %\n"
     ]
    }
   ],
   "source": [
    "from sklearn.naive_bayes import BernoulliNB\n",
    "NB_mod = BernoulliNB()\n",
    "\n",
    "# training\n",
    "NB_mod.fit(x_train, y_train)\n",
    "\n",
    "# accuracy\n",
    "print('Naive Bayes: Accuracy=',round(NB_mod.score(x_test, y_test),4)*100, '%')\n",
    "\n",
    "#accuracy above 70% shows that the model can be acceptable but accuracy of no model can be 100%."
   ]
  },
  {
   "cell_type": "markdown",
   "metadata": {},
   "source": [
    "### Logistic Regression Model\n",
    "Logistic regression is the appropriate regression analysis to conduct when the dependent variable is binary.\n",
    "Like all regression analyses, the logistic regression is a predictive analysis.  Logistic regression is used to describe data and to explain the relationship between one dependent binary variable and one or more independent variables.\n"
   ]
  },
  {
   "cell_type": "code",
   "execution_count": 27,
   "metadata": {},
   "outputs": [
    {
     "name": "stdout",
     "output_type": "stream",
     "text": [
      "Logistic Regression: Accuracy= 79.39 %\n"
     ]
    }
   ],
   "source": [
    "from sklearn.linear_model import LogisticRegression\n",
    "logreg_model = LogisticRegression()\n",
    "\n",
    "# training \n",
    "logreg_model.fit(x_train, y_train)\n",
    "\n",
    "# accuracy\n",
    "print('Logistic Regression: Accuracy=',round(logreg_model.score(x_test, y_test),4)*100, '%')\n",
    "\n",
    "#accuracy above 70% is considered good"
   ]
  },
  {
   "cell_type": "code",
   "execution_count": 28,
   "metadata": {},
   "outputs": [
    {
     "name": "stdout",
     "output_type": "stream",
     "text": [
      "[[135  27]\n",
      " [ 27  73]]\n",
      "0    162\n",
      "1    100\n",
      "Name: Survived, dtype: int64\n"
     ]
    }
   ],
   "source": [
    "\n",
    "\n",
    "from sklearn.metrics import mean_absolute_error, accuracy_score, classification_report, confusion_matrix\n",
    "test_pred = logreg_model.predict(x_test)\n",
    "#print('Logreg: Accuracy= {:.4f}'.format(accuracy_score(test_pred, y_test)))\n",
    "print(confusion_matrix(test_pred, y_test))\n",
    "print(test.Survived.value_counts())"
   ]
  }
 ],
 "metadata": {
  "kernelspec": {
   "display_name": "Python 3",
   "language": "python",
   "name": "python3"
  },
  "language_info": {
   "codemirror_mode": {
    "name": "ipython",
    "version": 3
   },
   "file_extension": ".py",
   "mimetype": "text/x-python",
   "name": "python",
   "nbconvert_exporter": "python",
   "pygments_lexer": "ipython3",
   "version": "3.7.3"
  }
 },
 "nbformat": 4,
 "nbformat_minor": 2
}
